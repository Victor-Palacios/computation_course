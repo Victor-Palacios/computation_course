{
 "cells": [
  {
   "cell_type": "markdown",
   "metadata": {
    "slideshow": {
     "slide_type": "skip"
    },
    "toc": true
   },
   "source": [
    "<h1>Table of Contents<span class=\"tocSkip\"></span></h1>\n",
    "<div class=\"toc\"><ul class=\"toc-item\"><li><span><a href=\"#Looping-in-Python\" data-toc-modified-id=\"Looping-in-Python-1\">Looping in Python</a></span></li><li><span><a href=\"#Learning-Outcomes\" data-toc-modified-id=\"Learning-Outcomes-2\">Learning Outcomes</a></span></li><li><span><a href=\"#Why-looping?\" data-toc-modified-id=\"Why-looping?-3\">Why looping?</a></span></li><li><span><a href=\"#Repeated-execution\" data-toc-modified-id=\"Repeated-execution-4\">Repeated execution</a></span></li><li><span><a href=\"#Looping-over-numbers\" data-toc-modified-id=\"Looping-over-numbers-5\">Looping over numbers</a></span></li><li><span><a href=\"#The-size-of-range\" data-toc-modified-id=\"The-size-of-range-6\">The size of range</a></span></li><li><span><a href=\"#Arguments-for-range\" data-toc-modified-id=\"Arguments-for-range-7\">Arguments for range</a></span></li><li><span><a href=\"#Looping-over-sequences\" data-toc-modified-id=\"Looping-over-sequences-8\">Looping over sequences</a></span></li><li><span><a href=\"#while-loops\" data-toc-modified-id=\"while-loops-9\">while loops</a></span></li><li><span><a href=\"#Important-Looping-Rule-#1\" data-toc-modified-id=\"Important-Looping-Rule-#1-10\">Important Looping Rule #1</a></span></li><li><span><a href=\"#Important-Looping-Rule-#2\" data-toc-modified-id=\"Important-Looping-Rule-#2-11\">Important Looping Rule #2</a></span></li><li><span><a href=\"#Takeaways\" data-toc-modified-id=\"Takeaways-12\">Takeaways</a></span></li><li><span><a href=\"#Bonus-Material\" data-toc-modified-id=\"Bonus-Material-13\">Bonus Material</a></span></li><li><span><a href=\"#Let's-make-a-function-that-sums\" data-toc-modified-id=\"Let's-make-a-function-that-sums-14\">Let's make a function that sums</a></span></li><li><span><a href=\"#for-loops\" data-toc-modified-id=\"for-loops-15\">for loops</a></span></li></ul></div>"
   ]
  },
  {
   "cell_type": "markdown",
   "metadata": {
    "slideshow": {
     "slide_type": "slide"
    }
   },
   "source": [
    "<center><h2>Looping in Python</h2></center>\n",
    "<br>\n",
    "<center><img src=\"../images/in_loop.png\" width=\"55%\"/></center>"
   ]
  },
  {
   "cell_type": "markdown",
   "metadata": {
    "slideshow": {
     "slide_type": "slide"
    }
   },
   "source": [
    "<center><h2>Learning Outcomes</h2></center>\n",
    "\n",
    "__By the end of this session, you should be able to__:\n",
    "\n",
    "- Write for loops over numbers and sequences\n",
    "- Use `enumerate` and `zip` to write idiomatic Python code.\n",
    "- Write while loops.\n",
    "- Explain when to use for loops and while loops."
   ]
  },
  {
   "cell_type": "markdown",
   "metadata": {
    "slideshow": {
     "slide_type": "slide"
    }
   },
   "source": [
    "Why looping?\n",
    "-----\n",
    "\n",
    "Programmers should be lazy.\n",
    "\n",
    "Looping allows us to be lazy."
   ]
  },
  {
   "cell_type": "markdown",
   "metadata": {
    "slideshow": {
     "slide_type": "slide"
    }
   },
   "source": [
    "<center><h2>Repeated execution</h2></center>\n",
    "\n",
    "Most of the programming you will do involves applying operations to data, which means operating on data elements one by one. This means we need to be able to repeat instructions,\n",
    "\n"
   ]
  },
  {
   "cell_type": "code",
   "execution_count": 37,
   "metadata": {},
   "outputs": [],
   "source": [
    "reset -fs"
   ]
  },
  {
   "cell_type": "markdown",
   "metadata": {},
   "source": [
    "Looping over numbers\n",
    "-----"
   ]
  },
  {
   "cell_type": "code",
   "execution_count": 38,
   "metadata": {},
   "outputs": [
    {
     "name": "stdout",
     "output_type": "stream",
     "text": [
      "0\n",
      "1\n",
      "2\n",
      "3\n",
      "4\n"
     ]
    }
   ],
   "source": [
    "for n in range(5):\n",
    "    print(n)"
   ]
  },
  {
   "cell_type": "markdown",
   "metadata": {
    "slideshow": {
     "slide_type": "slide"
    }
   },
   "source": [
    "The size of range\n",
    "-----\n",
    "\n",
    "`range(n)` goes from 0 to `n`-1\n",
    "\n",
    "Computer programmers start counting at zero.\n",
    "\n",
    "Humans (including Mathematicians) start counting at one.\n",
    "\n",
    "Everyone repeat after me:\n",
    "\n",
    "> Computer programmers start counting at zero.\n",
    "\n",
    "range and indexing in Python is a wall moving. The wall stops at the parameter value in the argument.\n",
    "\n",
    "Everyone repeat after me:\n",
    "\n",
    "> Up to but not including"
   ]
  },
  {
   "cell_type": "markdown",
   "metadata": {},
   "source": [
    "Arguments for range\n",
    "------\n",
    "\n",
    "`range(start, stop, stride/step)`\n",
    "\n",
    "Start - Always included\n",
    "\n",
    "Stop - Up to but not including\n",
    "\n",
    "Stride/step - How many values to skip.\n"
   ]
  },
  {
   "cell_type": "code",
   "execution_count": 65,
   "metadata": {},
   "outputs": [
    {
     "name": "stdout",
     "output_type": "stream",
     "text": [
      "10\n",
      "6\n",
      "2\n",
      "-2\n"
     ]
    }
   ],
   "source": [
    "for n in range(10, -7, -4):  \n",
    "    print(n) \n",
    "    \n",
    "# Up to but not including the last stop value\n",
    "for n in range(10, -6, -4): \n",
    "    print(n)"
   ]
  },
  {
   "cell_type": "code",
   "execution_count": 40,
   "metadata": {},
   "outputs": [],
   "source": [
    "reset -fs"
   ]
  },
  {
   "cell_type": "code",
   "execution_count": 41,
   "metadata": {
    "slideshow": {
     "slide_type": "slide"
    }
   },
   "outputs": [
    {
     "name": "stdout",
     "output_type": "stream",
     "text": [
      "Hello\n",
      "Hello\n",
      "Hello\n",
      "Hello\n",
      "Hello\n"
     ]
    }
   ],
   "source": [
    "# Same pattern for repeating a block a fixed, predetermined number of times\n",
    "# Note: `_` is a throwaway variable\n",
    "for _ in range(5):\n",
    "    print(\"Hello\")"
   ]
  },
  {
   "cell_type": "code",
   "execution_count": 42,
   "metadata": {},
   "outputs": [
    {
     "name": "stdout",
     "output_type": "stream",
     "text": [
      "Interactive namespace is empty.\n"
     ]
    }
   ],
   "source": [
    "whos"
   ]
  },
  {
   "cell_type": "markdown",
   "metadata": {},
   "source": [
    "There are 3 reasons why `_` is better than `n` or `i`:\n",
    "\n",
    "1. There person reading the code won't need to keep track it. A value `n` a person might wonder what will be used for in the loop.\n",
    "2. It is not added in the namespace. Fewer items in name space is better.\n",
    "3. It will __not__ conflict with other `n` or `i` objects in namespace. "
   ]
  },
  {
   "cell_type": "markdown",
   "metadata": {
    "slideshow": {
     "slide_type": "slide"
    }
   },
   "source": [
    "Looping over sequences\n",
    "-----"
   ]
  },
  {
   "cell_type": "code",
   "execution_count": 43,
   "metadata": {},
   "outputs": [
    {
     "name": "stdout",
     "output_type": "stream",
     "text": [
      "L\n",
      "a\n",
      "m\n",
      "b\n",
      "d\n",
      "a\n"
     ]
    }
   ],
   "source": [
    "# Strings\n",
    "for c in \"Lambda\":\n",
    "    print(c)"
   ]
  },
  {
   "cell_type": "code",
   "execution_count": 44,
   "metadata": {
    "slideshow": {
     "slide_type": "slide"
    }
   },
   "outputs": [
    {
     "name": "stdout",
     "output_type": "stream",
     "text": [
      "brian\n",
      "nithish \n",
      "wenjie\n"
     ]
    }
   ],
   "source": [
    "# Lists\n",
    "for name in ['Kyle', 'Amee ', 'Vaishnavi']:\n",
    "    print(name)"
   ]
  },
  {
   "cell_type": "code",
   "execution_count": 45,
   "metadata": {},
   "outputs": [
    {
     "name": "stdout",
     "output_type": "stream",
     "text": [
      "brian\n",
      "nithish \n",
      "wenjie\n"
     ]
    }
   ],
   "source": [
    "# Tuples\n",
    "for name in ('brian', 'nithish ', 'wenjie'):\n",
    "    print(name)"
   ]
  },
  {
   "cell_type": "code",
   "execution_count": 46,
   "metadata": {
    "slideshow": {
     "slide_type": "slide"
    }
   },
   "outputs": [
    {
     "name": "stdout",
     "output_type": "stream",
     "text": [
      "0 Brian\n",
      "1 Nithish \n",
      "2 Wenjie\n"
     ]
    }
   ],
   "source": [
    "# Track index at the same time with enumerate\n",
    "for i, name in enumerate(['brian', 'nithish ', 'wenjie']):\n",
    "    print(i, name.title()) "
   ]
  },
  {
   "cell_type": "code",
   "execution_count": 47,
   "metadata": {
    "slideshow": {
     "slide_type": "slide"
    }
   },
   "outputs": [
    {
     "name": "stdout",
     "output_type": "stream",
     "text": [
      "0 brian\n",
      "1 nithish \n",
      "2 wenjie\n"
     ]
    }
   ],
   "source": [
    "# DO NOT DO THIS\n",
    "index = 0\n",
    "for element in ['brian', 'nithish ', 'wenjie']:\n",
    "    print(index, element)\n",
    "    index += 1"
   ]
  },
  {
   "cell_type": "code",
   "execution_count": 48,
   "metadata": {},
   "outputs": [
    {
     "name": "stdout",
     "output_type": "stream",
     "text": [
      "brian 42\n",
      "nithish  999\n",
      "wenjie 888\n"
     ]
    }
   ],
   "source": [
    "# Do this\n",
    "names = ['brian', 'nithish ', 'wenjie']\n",
    "numbers = [42, 999, 888]\n",
    "for name, number in zip(names, numbers):\n",
    "    print(name, number)"
   ]
  },
  {
   "cell_type": "code",
   "execution_count": 49,
   "metadata": {
    "slideshow": {
     "slide_type": "slide"
    }
   },
   "outputs": [
    {
     "name": "stdout",
     "output_type": "stream",
     "text": [
      "brian 42\n",
      "nithish  999\n",
      "wenjie 888\n"
     ]
    }
   ],
   "source": [
    "# DO NOT DO THIS\n",
    "for i in range(len(names)):\n",
    "    name = names[i]\n",
    "    number = numbers[i]\n",
    "    print(name, number)"
   ]
  },
  {
   "cell_type": "code",
   "execution_count": 50,
   "metadata": {
    "slideshow": {
     "slide_type": "slide"
    }
   },
   "outputs": [
    {
     "name": "stdout",
     "output_type": "stream",
     "text": [
      "0 brian 42\n",
      "1 nithish  999\n",
      "2 wenjie 888\n"
     ]
    }
   ],
   "source": [
    "# Yes you put functions together (composability) \n",
    "\n",
    "for i, (name, number) in enumerate(zip(names, numbers)):\n",
    "    print(i, name, number)"
   ]
  },
  {
   "cell_type": "code",
   "execution_count": 66,
   "metadata": {},
   "outputs": [
    {
     "name": "stdout",
     "output_type": "stream",
     "text": [
      "Friday\n",
      "Thrusday\n",
      "Wednesday\n",
      "Tuesday\n",
      "Monday\n"
     ]
    }
   ],
   "source": [
    "# Loop in opposite order\n",
    "\n",
    "week_days = [\"Monday\", \"Tuesday\", \"Wednesday\", \"Thrusday\", \"Friday\"]\n",
    "\n",
    "for day in reversed(week_days):\n",
    "    print(day)"
   ]
  },
  {
   "cell_type": "markdown",
   "metadata": {
    "slideshow": {
     "slide_type": "slide"
    }
   },
   "source": [
    "<center><h2>while loops</h2></center>\n",
    "\n",
    "`while` should be called while-a-condition-is-true-keep-doing"
   ]
  },
  {
   "cell_type": "code",
   "execution_count": 51,
   "metadata": {
    "slideshow": {
     "slide_type": "slide"
    }
   },
   "outputs": [],
   "source": [
    "# not_done = True\n",
    "\n",
    "# while not_done:\n",
    "#     user_input = input(\"Press return to continue. Enter 'q' to finish: \")\n",
    "#     if user_input == \"q\":\n",
    "#         not_done = False # (not True)\n",
    "# else:\n",
    "#     print(\"Done!\")"
   ]
  },
  {
   "cell_type": "markdown",
   "metadata": {},
   "source": [
    "`while` loops can be used in data science for machine learning training.\n",
    "\n",
    "```python\n",
    "model_not_good_enough = True\n",
    "\n",
    "while model_not_good_enough:\n",
    "    results = train_model()\n",
    "    if results >= threshold:\n",
    "           model_not_good_enough = False\n",
    "```"
   ]
  },
  {
   "cell_type": "markdown",
   "metadata": {},
   "source": [
    "else\n",
    "-----\n",
    "\n",
    "`else` is commonly associated with `if` blocks\n",
    "\n",
    "`else` can also appear with `for` and `while` blocks.\n",
    "\n",
    "`else` block will automatically run after a loop successfully terminates.\n",
    "\n",
    " "
   ]
  },
  {
   "cell_type": "code",
   "execution_count": 7,
   "metadata": {},
   "outputs": [],
   "source": [
    "for n in range(10):\n",
    "    if n == 9:\n",
    "        break\n",
    "else:\n",
    "    print(\"Finished the loop\")"
   ]
  },
  {
   "cell_type": "code",
   "execution_count": 8,
   "metadata": {},
   "outputs": [
    {
     "name": "stdout",
     "output_type": "stream",
     "text": [
      "Finished the loop\n"
     ]
    }
   ],
   "source": [
    "for n in range(5):\n",
    "    if n == 9:\n",
    "        break\n",
    "else:\n",
    "    print(\"Finished the loop\")"
   ]
  },
  {
   "cell_type": "markdown",
   "metadata": {
    "slideshow": {
     "slide_type": "slide"
    }
   },
   "source": [
    "Important Looping Rule #1\n",
    "-----\n",
    "\n",
    "Since all for-loops are finite, all for loops can be written as sentinel controlled while loops.\n",
    "\n",
    "Steps to change a `for` loop to a `while` loop:\n",
    "\n",
    "1. Initialize a counter.\n",
    "1. Test if counter has reached sentinel value.\n",
    "1. Change counter to go towards limit (or loop will be infinite).\n"
   ]
  },
  {
   "cell_type": "code",
   "execution_count": 67,
   "metadata": {},
   "outputs": [
    {
     "name": "stdout",
     "output_type": "stream",
     "text": [
      "0\n",
      "1\n",
      "2\n",
      "3\n",
      "4\n",
      "5\n",
      "6\n",
      "7\n",
      "8\n",
      "9\n"
     ]
    }
   ],
   "source": [
    "for c in range(10): \n",
    "    print(c)  "
   ]
  },
  {
   "cell_type": "code",
   "execution_count": 71,
   "metadata": {},
   "outputs": [
    {
     "name": "stdout",
     "output_type": "stream",
     "text": [
      "0\n",
      "1\n",
      "2\n",
      "3\n",
      "4\n",
      "5\n",
      "6\n",
      "7\n",
      "8\n",
      "9\n"
     ]
    }
   ],
   "source": [
    "c = 0 \n",
    "\n",
    "while c < 10: \n",
    "    print(c) \n",
    "    c += 1 "
   ]
  },
  {
   "cell_type": "markdown",
   "metadata": {
    "slideshow": {
     "slide_type": "slide"
    }
   },
   "source": [
    "Important Looping Rule #2\n",
    "-----\n",
    "\n",
    "Since while loops can be infinite, __not__ all `while` loops can be written as `for` loops"
   ]
  },
  {
   "cell_type": "code",
   "execution_count": 52,
   "metadata": {
    "slideshow": {
     "slide_type": "slide"
    }
   },
   "outputs": [],
   "source": [
    "# This can't not be written as a for loop\n",
    "\n",
    "# while True: \n",
    "#     print(\"👋\") "
   ]
  },
  {
   "cell_type": "markdown",
   "metadata": {
    "slideshow": {
     "slide_type": "slide"
    }
   },
   "source": [
    "<center><h2>Takeaways</h2></center>\n",
    "\n",
    "\n",
    "- `for` loops are fundamental but powerful.\n",
    "- Let Python do the work by:\n",
    "    - Automatic looping over any iterable.\n",
    "    - `enumerate` tracks indices.\n",
    "    - `zip` pairs iterables.\n",
    "- Accumulator can be apply to any operator {-, +, *, /, //, &, ^, ...}\n",
    "- Generally use for loops; Use `while` loops do not know the finite number of passes at the start of the loop or if you want an potentially infinite loop."
   ]
  },
  {
   "cell_type": "markdown",
   "metadata": {},
   "source": [
    "Bonus Material\n",
    "----\n",
    "\n",
    "- https://treyhunner.com/2019/06/loop-better-a-deeper-look-at-iteration-in-python/"
   ]
  },
  {
   "cell_type": "markdown",
   "metadata": {
    "slideshow": {
     "slide_type": "slide"
    }
   },
   "source": [
    "<center><h2>Let's make a function that sums</h2></center>\n",
    "\n",
    "$$ total = \\sum_{i=1}^n a_i = a_1 + a_2 + a_3 + … + a_n$$"
   ]
  },
  {
   "cell_type": "markdown",
   "metadata": {},
   "source": [
    "for loops\n",
    "------\n",
    "\n",
    "`for` should be called  \"for each loop\" "
   ]
  },
  {
   "cell_type": "code",
   "execution_count": 53,
   "metadata": {
    "slideshow": {
     "slide_type": "slide"
    }
   },
   "outputs": [
    {
     "data": {
      "text/plain": [
       "207"
      ]
     },
     "execution_count": 53,
     "metadata": {},
     "output_type": "execute_result"
    }
   ],
   "source": [
    "# Let's total up numbers\n",
    "# Start with simple, working code\n",
    "\n",
    "data = [6, 49, 27, 30, 19, 21, 12, 22, 21]\n",
    "total = 0\n",
    "for d in data:\n",
    "    total = total + d\n",
    "\n",
    "total"
   ]
  },
  {
   "cell_type": "markdown",
   "metadata": {
    "slideshow": {
     "slide_type": "slide"
    }
   },
   "source": [
    "How can we test that? "
   ]
  },
  {
   "cell_type": "code",
   "execution_count": 54,
   "metadata": {
    "slideshow": {
     "slide_type": "fragment"
    }
   },
   "outputs": [],
   "source": [
    "assert total == 207 == sum(data)"
   ]
  },
  {
   "cell_type": "code",
   "execution_count": 55,
   "metadata": {
    "slideshow": {
     "slide_type": "slide"
    }
   },
   "outputs": [
    {
     "data": {
      "text/plain": [
       "207"
      ]
     },
     "execution_count": 55,
     "metadata": {},
     "output_type": "execute_result"
    }
   ],
   "source": [
    "# Accumulator pattern \n",
    "# Refactor working and tested code to be more elegant\n",
    "\n",
    "data = [6, 49, 27, 30, 19, 21, 12, 22, 21]\n",
    "total = 0\n",
    "for d in data:\n",
    "    total += d\n",
    "\n",
    "total"
   ]
  },
  {
   "cell_type": "code",
   "execution_count": 56,
   "metadata": {},
   "outputs": [],
   "source": [
    "assert total == sum(data) == 207"
   ]
  },
  {
   "cell_type": "code",
   "execution_count": 57,
   "metadata": {
    "slideshow": {
     "slide_type": "slide"
    }
   },
   "outputs": [],
   "source": [
    "# Wrap it up in a function\n",
    "\n",
    "from typing import List\n",
    "\n",
    "def total(nums: List[float]) -> float:\n",
    "    \"Given a list of numbers, return the sum.\"\n",
    "    total = 0\n",
    "    for n in nums:\n",
    "        total +=  n\n",
    "\n",
    "    return total\n",
    "\n",
    "nums = [6, 49, 27, 30, 19, 21, 12, 22, 21]\n",
    "assert total(nums) == sum(nums) == 207"
   ]
  },
  {
   "cell_type": "code",
   "execution_count": 58,
   "metadata": {
    "slideshow": {
     "slide_type": "fragment"
    }
   },
   "outputs": [
    {
     "name": "stdout",
     "output_type": "stream",
     "text": [
      "0\n"
     ]
    }
   ],
   "source": [
    "# Accumulator pattern extends to any operator\n",
    "data = [42, 3, 1]\n",
    "product = 0\n",
    "\n",
    "for d in data:\n",
    "    product *= d\n",
    "    \n",
    "print(product)"
   ]
  },
  {
   "cell_type": "markdown",
   "metadata": {
    "slideshow": {
     "slide_type": "fragment"
    }
   },
   "source": [
    "There is a semantic error in my code. What is it?"
   ]
  },
  {
   "cell_type": "code",
   "execution_count": 59,
   "metadata": {
    "slideshow": {
     "slide_type": "slide"
    }
   },
   "outputs": [
    {
     "name": "stdout",
     "output_type": "stream",
     "text": [
      "126\n"
     ]
    }
   ],
   "source": [
    "data = [42, 3, 1]\n",
    "product = 1 # Seed accumulator with multiplication identity\n",
    "\n",
    "for d in data:\n",
    "    product *= d\n",
    "    \n",
    "print(product)\n"
   ]
  },
  {
   "cell_type": "code",
   "execution_count": 60,
   "metadata": {},
   "outputs": [],
   "source": [
    "# Wrap the code up into a function for testing\n",
    "\n",
    "def my_product(nums):\n",
    "    product = 1 # Seed accumulator with multiplication identity\n",
    "\n",
    "    for d in data:\n",
    "        product *= d\n",
    "    \n",
    "    return product"
   ]
  },
  {
   "cell_type": "code",
   "execution_count": 61,
   "metadata": {},
   "outputs": [],
   "source": [
    "from math import prod"
   ]
  },
  {
   "cell_type": "code",
   "execution_count": 62,
   "metadata": {},
   "outputs": [],
   "source": [
    "assert my_product([42, 3, 1]) == prod([42, 3, 1]) == 126"
   ]
  },
  {
   "cell_type": "code",
   "execution_count": 63,
   "metadata": {},
   "outputs": [
    {
     "name": "stdout",
     "output_type": "stream",
     "text": [
      "[0, 1, 2, 3, 4, 5, 6, 7, 8, 9]\n"
     ]
    }
   ],
   "source": [
    "# Accumulator pattern extends to other sequence data structures\n",
    "\n",
    "# List\n",
    "nums = []\n",
    "\n",
    "for n in range(10):\n",
    "    nums += [n]\n",
    "    \n",
    "print(nums)"
   ]
  },
  {
   "cell_type": "code",
   "execution_count": 64,
   "metadata": {},
   "outputs": [
    {
     "name": "stdout",
     "output_type": "stream",
     "text": [
      "0123456789\n"
     ]
    }
   ],
   "source": [
    "# Strings\n",
    "string = \"\"\n",
    "\n",
    "for n in range(10):\n",
    "    string += str(n)\n",
    "    \n",
    "print(string)"
   ]
  },
  {
   "cell_type": "code",
   "execution_count": null,
   "metadata": {},
   "outputs": [],
   "source": []
  },
  {
   "cell_type": "markdown",
   "metadata": {},
   "source": [
    "<br>\n",
    "<br> \n",
    "<br>\n",
    "\n",
    "----"
   ]
  },
  {
   "cell_type": "markdown",
   "metadata": {
    "slideshow": {
     "slide_type": "slide"
    }
   },
   "source": [
    " "
   ]
  }
 ],
 "metadata": {
  "kernelspec": {
   "display_name": "Python 3",
   "language": "python",
   "name": "python3"
  },
  "language_info": {
   "codemirror_mode": {
    "name": "ipython",
    "version": 3
   },
   "file_extension": ".py",
   "mimetype": "text/x-python",
   "name": "python",
   "nbconvert_exporter": "python",
   "pygments_lexer": "ipython3",
   "version": "3.8.3"
  },
  "toc": {
   "base_numbering": 1,
   "nav_menu": {},
   "number_sections": false,
   "sideBar": false,
   "skip_h1_title": false,
   "title_cell": "Table of Contents",
   "title_sidebar": "Contents",
   "toc_cell": true,
   "toc_position": {},
   "toc_section_display": true,
   "toc_window_display": false
  }
 },
 "nbformat": 4,
 "nbformat_minor": 2
}

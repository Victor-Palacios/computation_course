{
 "cells": [
  {
   "cell_type": "markdown",
   "metadata": {
    "toc": true
   },
   "source": [
    "<h1>Table of Contents<span class=\"tocSkip\"></span></h1>\n",
    "<div class=\"toc\"><ul class=\"toc-item\"><li><span><a href=\"#Instructions\" data-toc-modified-id=\"Instructions-1\">Instructions</a></span></li><li><span><a href=\"#Refactor-a-for-loop-as-a-while-loop\" data-toc-modified-id=\"Refactor-a-for-loop-as-a-while-loop-2\">Refactor a for-loop as a while loop</a></span></li><li><span><a href=\"#Refactor-the-following-to-use-Python-idioms-\" data-toc-modified-id=\"Refactor-the-following-to-use-Python-idioms--3\">Refactor the following to use Python idioms </a></span></li><li><span><a href=\"#Write-Horner's-method-for-polyminal-root-finding\" data-toc-modified-id=\"Write-Horner's-method-for-polyminal-root-finding-4\">Write Horner's method for polyminal root finding</a></span></li><li><span><a href=\"#Find-argmax\" data-toc-modified-id=\"Find-argmax-5\">Find argmax</a></span></li><li><span><a href=\"#Find-the-leading-(most-significant)-digit-without-converting-the-type.\" data-toc-modified-id=\"Find-the-leading-(most-significant)-digit-without-converting-the-type.-6\">Find the leading (most significant) digit without converting the type.</a></span></li></ul></div>"
   ]
  },
  {
   "cell_type": "markdown",
   "metadata": {},
   "source": [
    "Instructions\n",
    "--------\n",
    "\n",
    "- __First thing__ - Change the name of this file to avoid a [merge conflict](https://docs.github.com/en/github/getting-started-with-github/github-glossary#merge-conflict) with GitHub.\n",
    "- You should type every character for the following activities. \n",
    "- Work together with your peers in the same shared code environment. The following environments allow the importation of Jupyter Notebook from GitHub urls -\n",
    "    - [Google Colab](https://colab.research.google.com)\n",
    "    - [Deepnote](https://deepnote.com/)\n",
    "- These activities are not graded.\n",
    "- They are open resource - feel free to reference documentation, books, videos, and any other resource.\n",
    "- Attempt each problem. If stuck, move onto next one and come back to a difficult problem.\n",
    "- During class:\n",
    "    - Brian will bounce between breakout rooms. Feel free to ask questions or just ignore him.\n",
    "    - After your group has finished, leave your breakout room and return to the main room."
   ]
  },
  {
   "cell_type": "code",
   "execution_count": 3,
   "metadata": {},
   "outputs": [],
   "source": [
    "reset -fs"
   ]
  },
  {
   "cell_type": "markdown",
   "metadata": {},
   "source": [
    "Refactor a for-loop as a while loop\n",
    "-----\n",
    "\n",
    "Refactor the following for-loop as a while loop.\n",
    "\n",
    "Sidebar about refactor - Refactor is a special type of re-writing code. Refactoring is the process of changing will keeping the output the same.\n",
    "\n",
    "Hopefully, the changes make the code more readable, more extensible, or faster."
   ]
  },
  {
   "cell_type": "code",
   "execution_count": 4,
   "metadata": {},
   "outputs": [
    {
     "name": "stdout",
     "output_type": "stream",
     "text": [
      "5\n",
      "4\n",
      "3\n",
      "2\n",
      "1\n",
      "Blastoff 🚀\n"
     ]
    }
   ],
   "source": [
    "for count_down in range(5, 0, -1):\n",
    "    print(count_down)\n",
    "else:\n",
    "    print(\"Blastoff 🚀\")"
   ]
  },
  {
   "cell_type": "code",
   "execution_count": 5,
   "metadata": {},
   "outputs": [
    {
     "name": "stdout",
     "output_type": "stream",
     "text": [
      "5\n",
      "4\n",
      "3\n",
      "2\n",
      "1\n",
      "Blastoff 🚀\n"
     ]
    }
   ],
   "source": [
    "# Solutions\n",
    "\n",
    "count_down = 5           # Create counter\n",
    "while count_down > 0:    # Check counter has reached sentinel value\n",
    "    print(count_down)    # Display for humans\n",
    "    count_down -= 1      # Step counter towards sentinel value\n",
    "else:                    # for & while loops can have else clauses!\n",
    "    print(\"Blastoff 🚀\") # Done."
   ]
  },
  {
   "cell_type": "markdown",
   "metadata": {},
   "source": [
    "Refactor the following to use Python idioms \n",
    "----\n",
    "\n",
    "One of my mantra's is \"Let Python do the work\"\n",
    "\n",
    "Improve each of the following by better leveraging Python idioms."
   ]
  },
  {
   "cell_type": "code",
   "execution_count": 32,
   "metadata": {},
   "outputs": [
    {
     "name": "stdout",
     "output_type": "stream",
     "text": [
      "0\n",
      "1\n",
      "4\n",
      "9\n",
      "16\n",
      "25\n",
      "red\n",
      "orange\n",
      "yellow\n",
      "green\n",
      "blue\n",
      "indigo\n",
      "violet\n",
      "violet\n",
      "indigo\n",
      "blue\n",
      "green\n",
      "yellow\n",
      "orange\n",
      "red\n",
      "0 ---> red\n",
      "1 ---> orange\n",
      "2 ---> yellow\n",
      "3 ---> green\n",
      "4 ---> blue\n",
      "5 ---> indigo\n",
      "6 ---> violet\n"
     ]
    }
   ],
   "source": [
    "# Looping over a range of numbers\n",
    "for i in [0, 1, 2, 3, 4, 5]:\n",
    "    print(i**2)\n",
    "    \n",
    "# Looping over a sequence\n",
    "rainbow_colors = [\"red\", \"orange\", \"yellow\", \"green\", \n",
    "                  \"blue\", \"indigo\", \"violet\",]\n",
    "\n",
    "for i in range(len(rainbow_colors)):\n",
    "    print(rainbow_colors[i])\n",
    "    \n",
    "# Looping backwards\n",
    "for i in range(len(rainbow_colors)-1, -1, -1):\n",
    "    print(rainbow_colors[i])\n",
    "\n",
    "# Looping over a collection and indices\n",
    "for i in range(len(rainbow_colors)):\n",
    "    print(i, '--->', rainbow_colors[i])\n",
    "    \n",
    "# Distinguishing multiple exit points in loops\n",
    "# Refactor to remove `found` variable, it is not needed\n",
    "def find(sequence, target):\n",
    "    \"Linear search of a sequence to find index of target\"\n",
    "    found = False\n",
    "    for i, value in enumerate(sequence):\n",
    "        if value == target:\n",
    "            found = i\n",
    "            break\n",
    "    if not found:\n",
    "        return \"not found\"\n",
    "    return found\n",
    "\n",
    "assert find('abc', 'b') == 1 == 'abc'.index('b')\n",
    "assert find('abc', 'c') == 2 == 'abc'.index('c')\n",
    "assert find('abc', 'z') == \"not found\"\n",
    "print('all tests pass 🙂')\n",
    "\n"
   ]
  },
  {
   "cell_type": "code",
   "execution_count": 33,
   "metadata": {},
   "outputs": [
    {
     "name": "stdout",
     "output_type": "stream",
     "text": [
      "0\n",
      "1\n",
      "4\n",
      "9\n",
      "16\n",
      "25\n",
      "red\n",
      "orange\n",
      "yellow\n",
      "green\n",
      "blue\n",
      "indigo\n",
      "violet\n",
      "violet\n",
      "indigo\n",
      "blue\n",
      "green\n",
      "yellow\n",
      "orange\n",
      "red\n",
      "0 ---> red\n",
      "1 ---> orange\n",
      "2 ---> yellow\n",
      "3 ---> green\n",
      "4 ---> blue\n",
      "5 ---> indigo\n",
      "6 ---> violet\n",
      "all tests pass 🙂\n"
     ]
    }
   ],
   "source": [
    "# Solutions\n",
    "for i in range(6):\n",
    "    print(i**2)\n",
    "    \n",
    "for color in rainbow_colors:\n",
    "    print(color)\n",
    "\n",
    "for color in reversed(rainbow_colors):\n",
    "    print(color)\n",
    "    \n",
    "for i, color in enumerate(rainbow_colors):\n",
    "    print(i, '--->', color)\n",
    "    \n",
    "def find(sequence, target):\n",
    "    \"Linear search of a sequence\"\n",
    "    for i, value in enumerate(sequence):\n",
    "        if value == target:\n",
    "            return i # Stop the loop by exiting the function\n",
    "    else: # Successfully finished the loop by not finding the target\n",
    "        return \"not found\" \n",
    "\n",
    "assert find('abc', 'b') == 1\n",
    "assert find('abc', 'c') == 2\n",
    "assert find('abc', 'z') == \"not found\"\n",
    "print('all tests pass 🙂')\n",
    "\n",
    "\"\"\"\n",
    "Try this on your own\n",
    "'abc'.index('z')\n",
    "\n",
    "Do not return -1 for a missing value. \n",
    "That is can lead to confusion because -1 is the index to the last value.\n",
    "\"\"\";\n",
    "\n",
    "# Source - https://gist.github.com/0x4D31/f0b633548d8e0cfb66ee3bea6a0deff9"
   ]
  },
  {
   "cell_type": "markdown",
   "metadata": {},
   "source": [
    "Write Horner's method for polyminal root finding\n",
    "-----\n",
    "\n",
    "Write a function that calculates the value of a polynomial.\n",
    "\n",
    "The function will take in a sequence of coefficients for a polynomial in order of increasing powers of x and a value for x.\n",
    "\n",
    "Use [Horner's method](https://en.wikipedia.org/wiki/Horner%27s_method).\n",
    "\n",
    "-----\n",
    "\n",
    "If the polynomial is:\n",
    "\n",
    "$$-19 + 7x - 4x^2 + 6x^3$$\n",
    "\n",
    "and if $x=3$, the solution is 128\n",
    "\n",
    "-----\n",
    "\n",
    "Do not import anything else."
   ]
  },
  {
   "cell_type": "code",
   "execution_count": 8,
   "metadata": {},
   "outputs": [],
   "source": [
    "from typing import Sequence\n",
    "\n",
    "def horner(coefficients: Sequence[int], x: float) -> float:\n",
    "    \"Horner's method evaluating a polynomial of coefficients.\"\n",
    "    \n",
    "    pass # TODO: Delete pass and write your code.\n",
    " \n",
    "def test_horner(horner):\n",
    "    \n",
    "    assert horner((-19, 7, -4, 6), 3)           == 128\n",
    "    assert horner((-19, 7, -4, 6), 4.5)         == 478.25\n",
    "    assert horner((-19, 7, -4, 6, 0, 0, 4), 3)  == 3_044\n",
    "    \n",
    "    return \"All tests pass 🙂\"\n",
    "    \n",
    "# test_horner(horner)"
   ]
  },
  {
   "cell_type": "code",
   "execution_count": 18,
   "metadata": {
    "code_folding": []
   },
   "outputs": [
    {
     "name": "stdout",
     "output_type": "stream",
     "text": [
      "All tests pass 🙂\n",
      "All tests pass 🙂\n"
     ]
    }
   ],
   "source": [
    "# Solutions\n",
    "\n",
    "def horner(coefficients: Sequence[int], x: float) -> float:\n",
    "    \"\"\"Horner's method evaluating a polynomial of coefficients.\n",
    "    Procedural implementation \"\"\"\n",
    "    \n",
    "    result = 0\n",
    "    for coefficient in reversed(coefficients):\n",
    "        result = (result * x) + coefficient\n",
    "    return result\n",
    "\n",
    "print(test_horner(horner))\n",
    "\n",
    "\n",
    "###############################################\n",
    "\n",
    "\n",
    "from functools import reduce\n",
    "\n",
    "def horner(coefficients: Sequence[int], x: float) -> float:\n",
    "    \"\"\"Horner's method evaluating a polynomial of coefficients.\n",
    "    Functional implementation \"\"\"\n",
    "    return reduce(lambda acc, c: acc * x + c, reversed(coefficients), 0)\n",
    "\n",
    "print(test_horner(horner))\n",
    "\n",
    "###############################################\n",
    "# How do to it in the real-world\n",
    "import numpy as np\n",
    "\n",
    "assert np.polynomial.polynomial.polyval(3, (-19, 7, -4, 6)) == 128\n",
    "\n",
    "# Source https://rosettacode.org/wiki/Horner%27s_rule_for_polynomial_evaluation#Python"
   ]
  },
  {
   "cell_type": "markdown",
   "metadata": {},
   "source": [
    "Find argmax\n",
    "------\n",
    "\n",
    "Write a for-loop to find the `argmax` of `[-1, 8, 3]`\n",
    "\n",
    "`argmax` is index of the maximum value for numeric sequence. \n",
    "\n",
    "The answer is `1`. \n",
    "\n",
    "`8` is the largest value and it's in the second place / computer index of `1`.\n",
    "\n",
    "Do not import anything else."
   ]
  },
  {
   "cell_type": "code",
   "execution_count": 4,
   "metadata": {},
   "outputs": [],
   "source": [
    "from typing import Sequence\n",
    "\n",
    "def my_arg_max(nums: Sequence[float]) -> int:\n",
    "    \n",
    "    pass # TODO: Delete pass and write your code.\n",
    " \n",
    "def test_my_arg_max(my_arg_max):\n",
    "    \n",
    "    assert my_arg_max([-1])          == 0\n",
    "    assert my_arg_max([-1, 8, 3])    == 1\n",
    "    assert my_arg_max([ 0, 0, 0, 1]) == 3\n",
    "    assert my_arg_max([ 0, 0, 0, 1, 0, 2]) == 5\n",
    "    \n",
    "    return \"All tests pass 🙂\"\n",
    "    \n",
    "# test_my_arg_max(my_arg_max)"
   ]
  },
  {
   "cell_type": "code",
   "execution_count": 27,
   "metadata": {},
   "outputs": [
    {
     "name": "stdout",
     "output_type": "stream",
     "text": [
      "All tests pass 🙂\n",
      "All tests pass 🙂\n"
     ]
    }
   ],
   "source": [
    "# Solutions\n",
    "\n",
    "def my_arg_max(nums: Sequence[float]) -> int:\n",
    "    \"Procedural solution\"\n",
    "    \n",
    "    max_value = nums[0] # Intialize to first value\n",
    "    argmax = 0          # Intialize to first index\n",
    "\n",
    "    for i, n in enumerate(nums): # Step through\n",
    "        if n > max_value:        # Check if we have a new max\n",
    "            argmax = i           # Set max index to current index \n",
    "            max_value = n        # Set max value to current value \n",
    "            \n",
    "    return argmax\n",
    "\n",
    "print(test_my_arg_max(my_arg_max))\n",
    "\n",
    "def my_arg_max(nums: Sequence[float]) -> int:\n",
    "    \"Functional solution\"\n",
    "    \n",
    "    return nums.index(max(nums))\n",
    "\n",
    "print(test_my_arg_max(my_arg_max))\n",
    "\n",
    "####################################\n",
    "\n",
    "# How do to it in the real-world\n",
    "\n",
    "import numpy as np\n",
    "\n",
    "assert np.argmax([-1, 8, 3]) == 1"
   ]
  },
  {
   "cell_type": "markdown",
   "metadata": {},
   "source": [
    "Find the leading (most significant) digit without converting the type.\n",
    "----\n",
    "\n",
    "At no time change the type of the input to anything else, it should remain an integer the entire time.\n",
    "\n",
    "Write it with a `while` loop.\n",
    "\n",
    "Optional challenge - refactor to to use a [closed form solution](https://en.wikipedia.org/wiki/Closed-form_expression)"
   ]
  },
  {
   "cell_type": "code",
   "execution_count": 12,
   "metadata": {},
   "outputs": [],
   "source": [
    "def find_leading_digit(number: float) -> int:\n",
    "   \n",
    "    pass # TODO: Delete pass and write your code.\n",
    "\n",
    "def test_find_leading_digit(find_leading_digit):\n",
    "\n",
    "    assert find_leading_digit(1)           == 1 == int(str(1)[0])\n",
    "    assert find_leading_digit(42)          == 4 == int(str(42)[0])\n",
    "    assert find_leading_digit(42.42)       == 4 == int(str(42.42)[0])\n",
    "    assert find_leading_digit(1_234)       == 1 == int(str(1_234)[0])\n",
    "    assert find_leading_digit(98_7654_321) == 9 == int(str(98_7654_321)[0])\n",
    "    \n",
    "    return \"All tests pass 🙂\"\n",
    "\n",
    "# test_find_leading_digit(find_leading_digit)"
   ]
  },
  {
   "cell_type": "code",
   "execution_count": 13,
   "metadata": {},
   "outputs": [
    {
     "data": {
      "text/plain": [
       "'All tests pass 🙂'"
      ]
     },
     "execution_count": 13,
     "metadata": {},
     "output_type": "execute_result"
    }
   ],
   "source": [
    "# Solutions\n",
    "\n",
    "from math import floor, log10\n",
    "\n",
    "def find_leading_digit(number: float) -> int:\n",
    "    \"Procedural\"\n",
    "    while number >= 10:  # If the number still has more than 2 digits\n",
    "        number //= 10    # Remove a digits\n",
    "    return number        # Return the remaining single digit\n",
    "\n",
    "test_find_leading_digit(find_leading_digit)\n",
    "\n",
    "def find_leading_digit(number: float) -> int:\n",
    "    \"Closed form\"\n",
    "    return number // 10**floor(log10(number))\n",
    "\n",
    "test_find_leading_digit(find_leading_digit)\n",
    "\n",
    "# # Unpacking it; Read from the bottom up\n",
    "\n",
    "# (number          # Divide number by largest power of 10 divisor\n",
    "#  //              # Return an int\n",
    "#  10**            # Create power of 10 divsor \n",
    "#  floor(          # Find the total of digits \n",
    "#       log10(n))) # Humans use base 10"
   ]
  },
  {
   "cell_type": "markdown",
   "metadata": {},
   "source": [
    "<br>\n",
    "<br> \n",
    "<br>\n",
    "\n",
    "----"
   ]
  }
 ],
 "metadata": {
  "kernelspec": {
   "display_name": "Python 3",
   "language": "python",
   "name": "python3"
  },
  "language_info": {
   "codemirror_mode": {
    "name": "ipython",
    "version": 3
   },
   "file_extension": ".py",
   "mimetype": "text/x-python",
   "name": "python",
   "nbconvert_exporter": "python",
   "pygments_lexer": "ipython3",
   "version": "3.8.3"
  },
  "toc": {
   "base_numbering": 1,
   "nav_menu": {},
   "number_sections": false,
   "sideBar": false,
   "skip_h1_title": false,
   "title_cell": "Table of Contents",
   "title_sidebar": "Contents",
   "toc_cell": true,
   "toc_position": {},
   "toc_section_display": true,
   "toc_window_display": false
  }
 },
 "nbformat": 4,
 "nbformat_minor": 4
}

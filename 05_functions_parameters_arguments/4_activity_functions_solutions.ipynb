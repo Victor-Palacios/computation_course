{
 "cells": [
  {
   "cell_type": "markdown",
   "metadata": {
    "toc": true
   },
   "source": [
    "<h1>Table of Contents<span class=\"tocSkip\"></span></h1>\n",
    "<div class=\"toc\"><ul class=\"toc-item\"><li><span><a href=\"#Instructions\" data-toc-modified-id=\"Instructions-1\">Instructions</a></span></li><li><span><a href=\"#Refactor-to-remove-mutable-default-parameter\" data-toc-modified-id=\"Refactor-to-remove-mutable-default-parameter-2\">Refactor to remove mutable default parameter</a></span></li><li><span><a href=\"#Bound-a-value\" data-toc-modified-id=\"Bound-a-value-3\">Bound a value</a></span></li><li><span><a href=\"#Create-a-Fibonacci-sequence\" data-toc-modified-id=\"Create-a-Fibonacci-sequence-4\">Create a Fibonacci sequence</a></span></li><li><span><a href=\"#Greatest-Common-Divisor\" data-toc-modified-id=\"Greatest-Common-Divisor-5\">Greatest Common Divisor</a></span></li><li><span><a href=\"#Find-the-largest-sum-with-a-constraint\" data-toc-modified-id=\"Find-the-largest-sum-with-a-constraint-6\">Find the largest sum with a constraint</a></span></li></ul></div>"
   ]
  },
  {
   "cell_type": "markdown",
   "metadata": {},
   "source": [
    "Instructions\n",
    "--------\n",
    "\n",
    "- __First thing__ - Change the name of this file to avoid a [merge conflict](https://docs.github.com/en/github/getting-started-with-github/github-glossary#merge-conflict) with GitHub.\n",
    "- You should type every character for the following activities. \n",
    "- Work together with your peers in the same shared code environment. The following environments allow the importation of Jupyter Notebook from GitHub urls -\n",
    "    - [Google Colab](https://colab.research.google.com)\n",
    "    - [Deepnote](https://deepnote.com/)\n",
    "- These activities are not graded.\n",
    "- They are open resource - feel free to reference documentation, books, videos, and any other resource.\n",
    "- Attempt each problem. If stuck, move onto next one and come back to a difficult problem.\n",
    "- During class:\n",
    "    - Brian will bounce between breakout rooms. Feel free to ask questions or just ignore him.\n",
    "    - After your group has finished, leave your breakout room and return to the main room."
   ]
  },
  {
   "cell_type": "code",
   "execution_count": 102,
   "metadata": {},
   "outputs": [],
   "source": [
    "reset -fs"
   ]
  },
  {
   "cell_type": "markdown",
   "metadata": {},
   "source": [
    "Refactor to remove mutable default parameter\n",
    "------\n",
    "\n",
    "It is critical that mutable data structures are not the default parameters for a function. \n",
    "\n",
    "Python’s default arguments are evaluated once when the function is defined, not each time the function is called.\n",
    "\n",
    "Mutable default parameters can cause subtle bugs (see below).\n",
    "\n",
    "Refactor the function to use immutable parameters and squash the bug."
   ]
  },
  {
   "cell_type": "code",
   "execution_count": 103,
   "metadata": {},
   "outputs": [
    {
     "name": "stdout",
     "output_type": "stream",
     "text": [
      "[1]\n",
      "[1, 1]\n"
     ]
    }
   ],
   "source": [
    "def append_one_to_a_list(items=[]):\n",
    "    items.append(1)\n",
    "    return items\n",
    "\n",
    "stuff = append_one_to_a_list() \n",
    "print(stuff)\n",
    "stuff = append_one_to_a_list()\n",
    "print(stuff) # Subtle bug - It should just return just [1] since there is no argument to the function"
   ]
  },
  {
   "cell_type": "code",
   "execution_count": 104,
   "metadata": {},
   "outputs": [
    {
     "name": "stdout",
     "output_type": "stream",
     "text": [
      "[1]\n",
      "[1]\n"
     ]
    }
   ],
   "source": [
    "# Solutions\n",
    "\n",
    "def append_one_to_a_list(items=None): # Change to None\n",
    "    if items is None:                 # Since arguments is optional, change no argument\n",
    "        items = []                    # Now make it a list\n",
    "    items.append(1)                   # Do the same work\n",
    "    return items                      # Return the same data structure\n",
    "\n",
    "# Check for improvement\n",
    "stuff = append_one_to_a_list() \n",
    "print(stuff)\n",
    "stuff = append_one_to_a_list()\n",
    "print(stuff) # Bug is gone - Returns [1] since there is no argument to the function\n",
    "\n",
    "# Learn more:\n",
    "# https://stackoverflow.com/questions/986006/how-do-i-pass-a-variable-by-reference"
   ]
  },
  {
   "cell_type": "markdown",
   "metadata": {},
   "source": [
    "Bound a value\n",
    "-----\n",
    "\n",
    "Let's say you are working at Internet of Things (IoT) company and want to make sure your sensors return only valid readings.\n",
    "\n",
    "You are given the operating min and max. \n",
    "\n",
    "Write a function that does nothing if the value is in the range. If below, return min. If above, return max. \n",
    "\n",
    "First, solve it with if-elif-else logic.\n",
    "\n",
    "If you have extra time, try to refactor the logic as a composable collection of buit-in functions. Ideally, you would be fluent in both in procedural and functional styles of programming.  "
   ]
  },
  {
   "cell_type": "code",
   "execution_count": 6,
   "metadata": {},
   "outputs": [],
   "source": [
    "from math import inf\n",
    "\n",
    "def bound_value(value: float, min_value: float, max_value: float) -> float:\n",
    "\n",
    "    pass # TODO: Delete pass and write your code.\n",
    "\n",
    "\n",
    "def test_bound_value(bound_value):\n",
    "    \n",
    "    assert bound_value(-1,   min_value=0, max_value=255) ==   0\n",
    "    assert bound_value(0,    min_value=0, max_value=255) ==   0\n",
    "    assert bound_value(10.5, min_value=0, max_value=255) ==  10.5\n",
    "    assert bound_value(255,  min_value=0, max_value=255) == 255\n",
    "    assert bound_value(256,  min_value=0, max_value=255) == 255\n",
    "    \n",
    "    # Test common edge cases\n",
    "    assert bound_value(float(\"-inf\"), min_value=0, max_value=255) == 0\n",
    "    assert bound_value(float(inf),    min_value=0, max_value=255) == 255\n",
    "    \n",
    "    return \"All tests pass 🙂\"\n",
    "\n",
    "# test_bound_value(bound_value)"
   ]
  },
  {
   "cell_type": "code",
   "execution_count": 9,
   "metadata": {},
   "outputs": [
    {
     "data": {
      "text/plain": [
       "'All tests pass 🙂'"
      ]
     },
     "execution_count": 9,
     "metadata": {},
     "output_type": "execute_result"
    }
   ],
   "source": [
    "# Solutions\n",
    "\n",
    "def bound_value(value: float, min_value: float, max_value: float) -> float:\n",
    "    \"Procedural\"\n",
    "    if value > max_value:\n",
    "        value = max_value\n",
    "    elif value < min_value:\n",
    "        value = min_value\n",
    "    return value\n",
    "\n",
    "test_bound_value(bound_value)\n",
    "\n",
    "def bound_value(value: float, min_value: float, max_value: float) -> float:\n",
    "    \"Functional\"\n",
    "    \n",
    "    # Keep the value in range by conditionally selecting between min and max\n",
    "    return min(max_value, max(value, min_value)) \n",
    "\n",
    "test_bound_value(bound_value)"
   ]
  },
  {
   "cell_type": "markdown",
   "metadata": {},
   "source": [
    "Create a Fibonacci sequence\n",
    "----\n",
    "\n",
    "[Fibonacci sequence](https://en.wikipedia.org/wiki/Fibonacci_number) is a series in which each number is the sum of the two preceding numbers:   \n",
    "\n",
    "$$F(n)=\n",
    "\\begin{cases} \n",
    "      0 & n=0, \\\\\n",
    "      1, & n=1, \\\\\n",
    "      F(n-1) + F(n-2), & n > 1.\n",
    "   \\end{cases}$$\n",
    "\n",
    "Write a function that creates a list of Fibonacci numbers up to a given parameter.\n",
    "\n",
    "Do __not__ use recursion (we'll write the recursive version in the next class)."
   ]
  },
  {
   "cell_type": "code",
   "execution_count": 107,
   "metadata": {},
   "outputs": [],
   "source": [
    "from typing import List\n",
    "\n",
    "def fib(n: int) -> List[int]:\n",
    "\n",
    "    fib_seq = [0, 1] # Seed the sequence\n",
    "    \n",
    "    pass # TODO: Delete pass and write your code.\n",
    "    \n",
    "    return fib_seq\n",
    "\n",
    "def test_fib(fib):\n",
    "    \n",
    "    assert fib(2) == [0, 1]\n",
    "    assert fib(3) == [0, 1, 1]\n",
    "    assert fib(4) == [0, 1, 1, 2]\n",
    "    assert fib(5) == [0, 1, 1, 2, 3]\n",
    "    assert fib(6) == [0, 1, 1, 2, 3, 5]\n",
    "\n",
    "    # Test for larger sequence with specific numbers\n",
    "    # fib returns a list; [-1] slices out the last value\n",
    "    assert fib(50)[-1]    == 7_778_742_049\n",
    "    assert fib(5_000)[-1] == 2397334346100631452333336800023778743396400988090212332865227234032387117767626167465060795065595580850691237390963845987165478074085124644348902530685083246709423858342692329718110162972268152200857232686119638781547238020078362945470777668711057069618425746387920931255084621360135655698456629322111614827324455767748623844363426260372374195153577101298837831208580530677289982029527164306876024342838547454228388796380077029917639469963653048076473269452943584037848773158456736367057460079075603072996653089318046279296240100777360367200040226807430924334616931577257195085793060133817911514540227011756335999604550121968663793604830945238116686325506344893928776515696088851468818023735825546502317562957459506612704850760351077006532507519813600498603205937022956740021970327599548184626715032015801445754074519753924901317605013561516613650173445818028242577356369143977719495739428130191089993769093308407443558168431535751910046557480949313497996285124526992631353143367314930548703966553707195171094152730704138121243470432644848607501\n",
    "    \n",
    "    return \"All tests pass 🙂\"\n",
    "\n",
    "# test_fib(fib)"
   ]
  },
  {
   "cell_type": "code",
   "execution_count": 108,
   "metadata": {},
   "outputs": [
    {
     "data": {
      "text/plain": [
       "'All tests pass 🙂'"
      ]
     },
     "execution_count": 108,
     "metadata": {},
     "output_type": "execute_result"
    }
   ],
   "source": [
    "# Solutions\n",
    "\n",
    "def fib(n: int) -> List[int]:\n",
    "\n",
    "    fib_seq = [0, 1] # Seed the sequence\n",
    "    \n",
    "    while len(fib_seq) < n:                     # Keep going until sentinel value\n",
    "        fib_seq += [fib_seq[-1] + fib_seq[-2]]  # Take last two values, then concatenate them at the end position\n",
    "    \n",
    "    return fib_seq   \n",
    "\n",
    "test_fib(fib)"
   ]
  },
  {
   "cell_type": "markdown",
   "metadata": {},
   "source": [
    "Greatest Common Divisor\n",
    "-----\n",
    "\n",
    "The greatest common divisor (GCD), also called the greatest common factor, of two numbers is the largest natural number $d$ that divides both numbers without a remainder.\n",
    "\n",
    "Let's code up [Euclidean algorithm](https://www.khanacademy.org/computing/computer-science/cryptography/modarithmetic/a/the-euclidean-algorithm) (one of the oldest algorithms in common use) to find the GCD.\n",
    "\n",
    "Do __not__ use recursion (we'll write the recursive version in the next class).\n",
    "\n",
    "The goal these activities to familiarize you with common algorithms. Then learn how to implement the algorithms with recursion. Recursion is critical for understanding decision trees later. "
   ]
  },
  {
   "cell_type": "code",
   "execution_count": 3,
   "metadata": {
    "code_folding": []
   },
   "outputs": [],
   "source": [
    "from math import gcd\n",
    "\n",
    "def my_gcd(a: int, b: int) -> int:\n",
    "\n",
    "    pass # TODO: Delete pass. Write your own code\n",
    "\n",
    "\n",
    "def test_my_gcd(my_gcd):\n",
    "    assert my_gcd(0, 0)    ==  0 == gcd(0, 0)\n",
    "    assert my_gcd(1, 1)    ==  1 == gcd(1, 1)\n",
    "    assert my_gcd(3, 9)    ==  3 == gcd(3, 9)\n",
    "    assert my_gcd(12, 8)   ==  4 == gcd(12, 8)\n",
    "    assert my_gcd(12, 24)  == 12 == gcd(12, 24)\n",
    "    assert my_gcd(17, 13)  ==  1 == gcd(17, 13)\n",
    "    assert my_gcd(45, -12) ==  3 == gcd(45, -12)\n",
    "    assert my_gcd(40902, 24140) ==  34 == gcd(40902, 24140)\n",
    "    \n",
    "    \n",
    "    return \"All tests pass 🙂\"\n",
    "\n",
    "# test_my_gcd(my_gcd)"
   ]
  },
  {
   "cell_type": "code",
   "execution_count": 4,
   "metadata": {},
   "outputs": [
    {
     "data": {
      "text/plain": [
       "'All tests pass 🙂'"
      ]
     },
     "execution_count": 4,
     "metadata": {},
     "output_type": "execute_result"
    }
   ],
   "source": [
    "# Solutions\n",
    "\n",
    "def my_gcd(a: int, b: int) -> int:\n",
    "\n",
    "    while b:              # While there is still a number to process\n",
    "        a, b = b, a % b   # Update the number by switching numbers and taking modulo remainder \n",
    "    return abs(a)         # Make sure it is positive\n",
    "    \n",
    "    # Brute force solution\n",
    "    # gcd = 1\n",
    "    #     a, b = abs(a), abs(b)\n",
    "\n",
    "    #     for d in range(2, min(a, b)+1):\n",
    "    #         if (not a % d) and (not b % d):\n",
    "    #             gcd = d\n",
    "    # https://rosettacode.org/wiki/Greatest_common_divisor#Python\n",
    "    ### END SOLUTION\n",
    "    \n",
    "    return gcd\n",
    "\n",
    "test_my_gcd(my_gcd)"
   ]
  },
  {
   "cell_type": "markdown",
   "metadata": {},
   "source": [
    "Find the largest sum with a constraint\n",
    "-----\n",
    "\n",
    "Given a list of integers, find the largest sum with the constraint that you can not add two adjacent numbers.\n",
    "\n",
    "This is similar to Reinforcement Learning. The goal of Reinforcement Learning is maximizing the sum of cumulative rewards under constraints.\n",
    "\n",
    "Your code should be efficient. Minimize the number of passes through the data. "
   ]
  },
  {
   "cell_type": "code",
   "execution_count": 111,
   "metadata": {},
   "outputs": [],
   "source": [
    "from typing import List\n",
    "\n",
    "def constrained_sum(nums: List[int]) -> int:\n",
    "    \n",
    "    pass # TODO: Delete pass and write your code.\n",
    "\n",
    "\n",
    "    \n",
    "def test_constrained_sum(constrained_sum):\n",
    "    \n",
    "                                                    # Indicator vector\n",
    "    assert constrained_sum([1, 2, 3, 1])     ==  4  # [1, 0, 1, 0]\n",
    "    assert constrained_sum([2, 7, 9, 3, 1])  == 12  # [1, 0, 1, 0, 1]\n",
    "    assert constrained_sum([2, 1, 1, 2])     ==  4  # [1, 0, 0, 1]\n",
    "    \n",
    "    # Tests for scaling\n",
    "    n = 100_000\n",
    "    assert constrained_sum([2, 7, 9, 3, 1]*n) == 1100001\n",
    "    assert constrained_sum([2, 1, 1, 2]*n)    == 300001\n",
    "\n",
    "    \n",
    "    return \"All tests pass 🙂\"\n",
    "\n",
    "# test_constrained_sum(constrained_sum)"
   ]
  },
  {
   "cell_type": "code",
   "execution_count": 112,
   "metadata": {},
   "outputs": [
    {
     "data": {
      "text/plain": [
       "'All tests pass 🙂'"
      ]
     },
     "execution_count": 112,
     "metadata": {},
     "output_type": "execute_result"
    }
   ],
   "source": [
    "# Solutions\n",
    "\n",
    "# Use Python Tutor to walk through solution\n",
    "\n",
    "def constrained_sum(nums: List[int]) -> int:\n",
    "    \n",
    "    total_current, total_previous = 0, 0 # Initialize. Assume total will be positive. \n",
    "\n",
    "    for n in nums:  # Step through each number. YOLO - You only look once!\n",
    "        \n",
    "        # Update the running totals based on the old totals\n",
    "        # The new current total will either be old current or the add the new number if it helps\n",
    "        # Very efficent since it is linear and only stores two numbers\n",
    "        total_previous, total_current = total_current, max(total_previous+n, total_current) \n",
    "        \n",
    "    return total_current \n",
    "\n",
    "test_constrained_sum(constrained_sum)\n",
    "\n",
    "\n",
    "\"\"\"\n",
    "Takeaways\n",
    "--------\n",
    "\n",
    "- Often code is simple (e.g., one-line using Pyhton idioms)\n",
    "- The logic can be complex.\n",
    "- Adding more than 1 line of comments will help everyone (including your future self). \n",
    "- You know the most about the logic right now. As time goes by you'll increasely forget what you were thinking in the moment.\n",
    "\n",
    "- The solution to this problem uses the same techniques as the previous problems.\n",
    "- Getting really good at simple stuff allows you to solve complex problems\n",
    "\"\"\""
   ]
  },
  {
   "cell_type": "markdown",
   "metadata": {},
   "source": [
    "<br>\n",
    "<br> \n",
    "<br>\n",
    "\n",
    "----"
   ]
  }
 ],
 "metadata": {
  "kernelspec": {
   "display_name": "Python 3",
   "language": "python",
   "name": "python3"
  },
  "language_info": {
   "codemirror_mode": {
    "name": "ipython",
    "version": 3
   },
   "file_extension": ".py",
   "mimetype": "text/x-python",
   "name": "python",
   "nbconvert_exporter": "python",
   "pygments_lexer": "ipython3",
   "version": "3.8.3"
  },
  "toc": {
   "base_numbering": 1,
   "nav_menu": {},
   "number_sections": false,
   "sideBar": false,
   "skip_h1_title": false,
   "title_cell": "Table of Contents",
   "title_sidebar": "Contents",
   "toc_cell": true,
   "toc_position": {},
   "toc_section_display": true,
   "toc_window_display": false
  }
 },
 "nbformat": 4,
 "nbformat_minor": 4
}

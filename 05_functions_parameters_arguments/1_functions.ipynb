{
 "cells": [
  {
   "cell_type": "markdown",
   "metadata": {
    "slideshow": {
     "slide_type": "skip"
    },
    "toc": true
   },
   "source": [
    "<h1>Table of Contents<span class=\"tocSkip\"></span></h1>\n",
    "<div class=\"toc\"><ul class=\"toc-item\"><li><span><a href=\"#Fun-with-Functions\" data-toc-modified-id=\"Fun-with-Functions-1\">Fun with Functions</a></span></li><li><span><a href=\"#Learning-Outcomes\" data-toc-modified-id=\"Learning-Outcomes-2\">Learning Outcomes</a></span></li><li><span><a href=\"#Basic-Components-of-a-Program\" data-toc-modified-id=\"Basic-Components-of-a-Program-3\">Basic Components of a Program</a></span></li><li><span><a href=\"#Functions-are-just-very-small-programs\" data-toc-modified-id=\"Functions-are-just-very-small-programs-4\">Functions are just very small programs</a></span></li><li><span><a href=\"#Functions-are-the-Paragraphs-of-Programming\" data-toc-modified-id=\"Functions-are-the-Paragraphs-of-Programming-5\">Functions are the Paragraphs of Programming</a></span></li><li><span><a href=\"#What-are-Python's-built-in-functions?\" data-toc-modified-id=\"What-are-Python's-built-in-functions?-6\">What are Python's built-in functions?</a></span></li><li><span><a href=\"#Your-API-is-your-UI\" data-toc-modified-id=\"Your-API-is-your-UI-7\">Your API is your UI</a></span></li><li><span><a href=\"#Function-Checklist\" data-toc-modified-id=\"Function-Checklist-8\">Function Checklist</a></span></li><li><span><a href=\"#How-many-lines-should-a-function-be?\" data-toc-modified-id=\"How-many-lines-should-a-function-be?-9\">How many lines should a function be?</a></span></li><li><span><a href=\"#Most-functions-should-have-tests.\" data-toc-modified-id=\"Most-functions-should-have-tests.-10\">Most functions should have tests.</a></span></li><li><span><a href=\"#Every-function-that-performs-computation-should-have-tests.\" data-toc-modified-id=\"Every-function-that-performs-computation-should-have-tests.-11\">Every function that performs computation should have tests.</a></span></li><li><span><a href=\"#Python-functions-always-return-something\" data-toc-modified-id=\"Python-functions-always-return-something-12\">Python functions always return something</a></span></li><li><span><a href=\"#What-the-heck-is-None?\" data-toc-modified-id=\"What-the-heck-is-None?-13\">What the heck is None?</a></span></li><li><span><a href=\"#Takeaways\" data-toc-modified-id=\"Takeaways-14\">Takeaways</a></span></li><li><span><a href=\"#Bonus-Material\" data-toc-modified-id=\"Bonus-Material-15\">Bonus Material</a></span></li><li><span><a href=\"#Detailed-checklist-for-functions\" data-toc-modified-id=\"Detailed-checklist-for-functions-16\">Detailed checklist for functions</a></span></li><li><span><a href=\"#Return-values-vs-printing\" data-toc-modified-id=\"Return-values-vs-printing-17\">Return values vs printing</a></span></li><li><span><a href=\"#Best-Practices-for-Functions\" data-toc-modified-id=\"Best-Practices-for-Functions-18\">Best Practices for Functions</a></span></li></ul></div>"
   ]
  },
  {
   "cell_type": "markdown",
   "metadata": {
    "slideshow": {
     "slide_type": "slide"
    }
   },
   "source": [
    "<center><h2>Fun with Functions</h2></center>\n"
   ]
  },
  {
   "cell_type": "markdown",
   "metadata": {
    "slideshow": {
     "slide_type": "slide"
    }
   },
   "source": [
    "<center><img src=\"../images/2017-02-27-ChickenTikkaMasala-16-600x840.jpg\" width=\"40%\"/></center>"
   ]
  },
  {
   "cell_type": "markdown",
   "metadata": {
    "slideshow": {
     "slide_type": "skip"
    }
   },
   "source": [
    "[Image Source](https://www.simplyrecipes.com/recipes/chicken_tikka_masala/)"
   ]
  },
  {
   "cell_type": "markdown",
   "metadata": {
    "slideshow": {
     "slide_type": "skip"
    }
   },
   "source": [
    "Just recently I made Chicken Tikka Masala.\n",
    "\n",
    "It was interesting but took a long time and didn't taste that good.\n",
    "\n",
    "I prefer to get someone else to make it.\n",
    "\n",
    "Coding is very similar - parts are made by others, part are made by use.\n",
    "\n",
    "Similarly, most cookbooks provide a number of fundamental recipes, such as making sauces, that are used by other recipes. A cookbook is organized into a series of executable recipes, some of which \"invoke\" other recipes. To make dinner, I open a cookbook, acquire some raw ingredients, then execute one or more recipes, usually in a specific sequence.\n",
    "\n",
    "Writing a program proceeds in the same way. Opening a cookbook is the same as importing libraries. Acquiring raw ingredients could mean loading data into the memory. The main program invokes functions (recipes) to accomplish a particular task. As part of writing a program, we will typically break out logical sections of code into functions specific to our problem, whereas the functions in libraries tend to be broadly-applicable.\n",
    "\n",
    "The way we organize our code is important. Programs quickly become an incomprehensible rats nest if we are not strict about style and organization. Here is the general structure of the Python programs we will write:\n",
    "\n",
    "import any libraries\n",
    "define any constants, simple data values\n",
    "define any functions\n",
    "main program body\n",
    "\n"
   ]
  },
  {
   "cell_type": "markdown",
   "metadata": {
    "slideshow": {
     "slide_type": "slide"
    }
   },
   "source": [
    "<center><h2>Learning Outcomes</h2></center>\n",
    "\n",
    "__By the end of this session, you should be able to__:\n",
    "\n",
    "- Explain how functions will help you to organize your code in your own words.\n",
    "- Use common built-in functions in Python.\n",
    "- Write your functions in Python."
   ]
  },
  {
   "cell_type": "markdown",
   "metadata": {
    "slideshow": {
     "slide_type": "slide"
    }
   },
   "source": [
    "<center><h2>Basic Components of a Program</h2></center>\n",
    "\n",
    "In Data Science, programs are a series of commands that process data.\n",
    "\n",
    "Most programs:\n",
    "\n",
    "1. Input: Start with data (nouns)\n",
    "2. Processing: Do stuff with the data (verbs)\n",
    "3. Output: Return new data and/or print results (nouns)"
   ]
  },
  {
   "cell_type": "markdown",
   "metadata": {
    "slideshow": {
     "slide_type": "slide"
    }
   },
   "source": [
    "<center><h2>Functions are just very small programs</h2></center>\n",
    "\n",
    "In Data Science, ~~programs~~ functions are a series of commands that process data.\n",
    "\n",
    "Most ~~programs~~ functions:\n",
    "\n",
    "1. Input: Start with data (nouns)\n",
    "2. Processing: Do stuff with the data (verbs)\n",
    "3. Output: Return new data and/or print results (nouns)"
   ]
  },
  {
   "cell_type": "markdown",
   "metadata": {
    "slideshow": {
     "slide_type": "slide"
    }
   },
   "source": [
    "<center><h2>Functions are the Paragraphs of Programming</h2></center>\n",
    "<br>\n",
    "<center><img src=\"../images/functions.png\" width=\"60%\"/></center>"
   ]
  },
  {
   "cell_type": "markdown",
   "metadata": {
    "slideshow": {
     "slide_type": "skip"
    }
   },
   "source": [
    "Divide Program into Small Manageable Parts\n",
    "\n",
    "- Simpler to understand. Look at smaller sections\n",
    "- Allows code to be written once and reused, rather than copied n' pasted in many places\n",
    "- Faster coding. Larger projects can be broken into smaller pieces.\n",
    "- Supports teamwork: team members can work on different functions of the same program\n",
    "- Easier to test. Define inputs and outputs of functions."
   ]
  },
  {
   "cell_type": "markdown",
   "metadata": {
    "slideshow": {
     "slide_type": "skip"
    }
   },
   "source": [
    "A sequence of operations grouped into a single, named entity is called a **function**. Functions are like mini programs or subprograms that we can plan out just like full programs.  \n",
    "\n",
    "Python **programs** consist of zero or more functions and the so-called \"main\" program, consisting of a sequence of operations that gets the ball rolling.\n",
    "\n",
    "Instead of loading data from the disk, functions operate on data given to them from the invoking program. This incoming data is analogous to a recipe's list of ingredients and is specified in the form of one or more named *parameters* (also called *arguments*). Instead of printing a result or displaying a graph, as a program would, functions *return* values. Functions are meant as helper routines that are generically useful.\n",
    "\n",
    "We begin planning a function by identifying:\n",
    " \n",
    "1. a descriptive function name\n",
    "2. the kind of value(s) it operates on (parameter types)\n",
    "3. the kind of value it returns (return type)\n",
    "4. what the function does and the value it returns\n",
    "\n",
    "If we can't specifying exactly what goes in and out of the function, there's no hope of determining the processing steps, let alone Python code, to implement that function.\n",
    "\n",
    "As with a program's work plan, we then manually write out some sample function invocations to show what data goes in and what data comes out. \n",
    "\n",
    "Once we fully understand our goal, we plan out the sequence of operations needed by the function to compute the desired result.  As when designing a whole program, we start with the return value and work our way backwards, identifying operations in reverse order. Note: The operations should be purely a function of the data passed to them as parameters---functions should be completely ignorant of any other data. (More on this when we actually translate function pseudocode to Python.)  "
   ]
  },
  {
   "cell_type": "markdown",
   "metadata": {
    "slideshow": {
     "slide_type": "slide"
    }
   },
   "source": [
    "<center><h2>What are Python's built-in functions?</h2></center>"
   ]
  },
  {
   "cell_type": "code",
   "execution_count": 1,
   "metadata": {
    "slideshow": {
     "slide_type": "skip"
    }
   },
   "outputs": [],
   "source": [
    "reset -fs"
   ]
  },
  {
   "cell_type": "code",
   "execution_count": 2,
   "metadata": {
    "slideshow": {
     "slide_type": "fragment"
    }
   },
   "outputs": [],
   "source": [
    "# Let's brainstorm a list …\n"
   ]
  },
  {
   "cell_type": "code",
   "execution_count": 3,
   "metadata": {
    "slideshow": {
     "slide_type": "skip"
    }
   },
   "outputs": [
    {
     "name": "stdout",
     "output_type": "stream",
     "text": [
      "\n"
     ]
    },
    {
     "data": {
      "text/plain": [
       "2"
      ]
     },
     "execution_count": 3,
     "metadata": {},
     "output_type": "execute_result"
    }
   ],
   "source": [
    "print()\n",
    "sum([1, 1])"
   ]
  },
  {
   "cell_type": "markdown",
   "metadata": {
    "slideshow": {
     "slide_type": "fragment"
    }
   },
   "source": [
    "[Python built-in functions](https://docs.python.org/3/library/functions.html)"
   ]
  },
  {
   "cell_type": "markdown",
   "metadata": {
    "slideshow": {
     "slide_type": "slide"
    }
   },
   "source": [
    "The commonly known built-in functions (which you likely already know about):\n",
    "\n",
    "```python\n",
    "print\n",
    "len\n",
    "str\n",
    "int\n",
    "float\n",
    "list\n",
    "tuple\n",
    "dict\n",
    "set\n",
    "range\n",
    "```"
   ]
  },
  {
   "cell_type": "markdown",
   "metadata": {
    "slideshow": {
     "slide_type": "slide"
    }
   },
   "source": [
    "The built-in functions which are often overlooked by newer Python programmers:\n",
    "\n",
    "```python\n",
    "sorted\n",
    "sum\n",
    "enumerate\n",
    "zip\n",
    "reversed\n",
    "min\n",
    "max\n",
    "```"
   ]
  },
  {
   "cell_type": "markdown",
   "metadata": {
    "slideshow": {
     "slide_type": "skip"
    }
   },
   "source": [
    "[Source](https://treyhunner.com/2019/05/python-builtins-worth-learning/)"
   ]
  },
  {
   "cell_type": "markdown",
   "metadata": {
    "slideshow": {
     "slide_type": "slide"
    }
   },
   "source": [
    "<center><img src=\"../images/functions_overview.png\" width=\"75%\"/></center>"
   ]
  },
  {
   "cell_type": "markdown",
   "metadata": {},
   "source": [
    "<center><h2>Your API is your UI</h2></center> \n",
    "\n",
    "API (Application Programming Interface)\n",
    "\n",
    "UI (User Interface)"
   ]
  },
  {
   "cell_type": "markdown",
   "metadata": {
    "slideshow": {
     "slide_type": "slide"
    }
   },
   "source": [
    "<center><h2>Function Checklist</h2></center>\n",
    "\n",
    "- Computer-oriented (effective)\n",
    "    - Only does a single thing.\n",
    "    - Does it completely.\n",
    "    - Does it well.\n",
    "    - Does it correctly.\n",
    "- Human-oriented (documentation)\n",
    "    - Sensibly named\n",
    "    - Unit tests\n",
    "    - Docstring\n",
    "    - Type hints"
   ]
  },
  {
   "cell_type": "markdown",
   "metadata": {
    "slideshow": {
     "slide_type": "slide"
    }
   },
   "source": [
    "<center><h2>How many lines should a function be?</h2></center>\n"
   ]
  },
  {
   "cell_type": "markdown",
   "metadata": {
    "slideshow": {
     "slide_type": "fragment"
    }
   },
   "source": [
    "Enough lines to solve the problem.\n",
    "\n",
    "There is no fixed number. \n",
    "\n",
    "Generally after 30-50 lines, the function is probably doing more than 1 thing."
   ]
  },
  {
   "cell_type": "code",
   "execution_count": null,
   "metadata": {},
   "outputs": [],
   "source": [
    "def update_user(user_id):\n",
    "    pass"
   ]
  },
  {
   "cell_type": "code",
   "execution_count": null,
   "metadata": {
    "slideshow": {
     "slide_type": "fragment"
    }
   },
   "outputs": [],
   "source": [
    "def remove_user_from_database_and_send_email(user_id):\n",
    "    pass"
   ]
  },
  {
   "cell_type": "code",
   "execution_count": 12,
   "metadata": {
    "slideshow": {
     "slide_type": "fragment"
    }
   },
   "outputs": [],
   "source": [
    "def off_board_user(user_id):\n",
    "    remove_user_from_database(user_id)\n",
    "    send_email(user_id)\n",
    "\n"
   ]
  },
  {
   "cell_type": "markdown",
   "metadata": {},
   "source": [
    "Then we can modularized and extend the function."
   ]
  },
  {
   "cell_type": "markdown",
   "metadata": {
    "slideshow": {
     "slide_type": "slide"
    }
   },
   "source": [
    "<center><img src=\"../images/how_to_write_code.png\" width=\"75%\"/></center>"
   ]
  },
  {
   "cell_type": "markdown",
   "metadata": {
    "slideshow": {
     "slide_type": "slide"
    }
   },
   "source": [
    "<center><h2>Most functions should have tests.</h2></center> "
   ]
  },
  {
   "cell_type": "markdown",
   "metadata": {
    "slideshow": {
     "slide_type": "fragment"
    }
   },
   "source": [
    "<center><h2>Every function that performs computation should have tests.</h2></center> "
   ]
  },
  {
   "cell_type": "code",
   "execution_count": 4,
   "metadata": {
    "slideshow": {
     "slide_type": "fragment"
    }
   },
   "outputs": [],
   "source": [
    "# Let's define pi function"
   ]
  },
  {
   "cell_type": "code",
   "execution_count": 5,
   "metadata": {
    "slideshow": {
     "slide_type": "skip"
    }
   },
   "outputs": [],
   "source": [
    "def my_pi() -> float:\n",
    "    \"Return approximate value of pi\"\n",
    "    return 3.14159"
   ]
  },
  {
   "cell_type": "code",
   "execution_count": 6,
   "metadata": {
    "slideshow": {
     "slide_type": "slide"
    }
   },
   "outputs": [],
   "source": [
    "# Let's test my_pi\n",
    "\n"
   ]
  },
  {
   "cell_type": "code",
   "execution_count": 7,
   "metadata": {
    "slideshow": {
     "slide_type": "skip"
    }
   },
   "outputs": [],
   "source": [
    "from math import pi\n",
    "\n",
    "assert my_pi() == round(pi, 5)"
   ]
  },
  {
   "cell_type": "markdown",
   "metadata": {
    "slideshow": {
     "slide_type": "fragment"
    }
   },
   "source": [
    "A unit test is an automated check that a small part of your code works correctly."
   ]
  },
  {
   "cell_type": "markdown",
   "metadata": {
    "slideshow": {
     "slide_type": "skip"
    }
   },
   "source": [
    "Source: [how becoming not a data scientist made me a better data scientist](https://docs.google.com/presentation/d/1jk-qrVKCb0-P9P4BVzH75gcVhp5Dy5n1CP_gKnHMNY0/edit)"
   ]
  },
  {
   "cell_type": "markdown",
   "metadata": {
    "slideshow": {
     "slide_type": "slide"
    }
   },
   "source": [
    "<center><h2>Python functions always return something</h2></center>\n",
    "\n"
   ]
  },
  {
   "cell_type": "code",
   "execution_count": 13,
   "metadata": {},
   "outputs": [],
   "source": [
    "reset -fs"
   ]
  },
  {
   "cell_type": "code",
   "execution_count": 14,
   "metadata": {},
   "outputs": [],
   "source": [
    "def blank():\n",
    "    pass\n",
    "\n",
    "# What does this function return?\n",
    "x = blank() \n",
    "\n"
   ]
  },
  {
   "cell_type": "code",
   "execution_count": 15,
   "metadata": {},
   "outputs": [],
   "source": [
    "# What is x?\n",
    "x"
   ]
  },
  {
   "cell_type": "code",
   "execution_count": 16,
   "metadata": {},
   "outputs": [
    {
     "name": "stdout",
     "output_type": "stream",
     "text": [
      "Variable   Type        Data/Info\n",
      "--------------------------------\n",
      "blank      function    <function blank at 0x106e86820>\n",
      "x          NoneType    None\n"
     ]
    }
   ],
   "source": [
    "whos"
   ]
  },
  {
   "cell_type": "markdown",
   "metadata": {},
   "source": [
    "__Functions in Python always return something__"
   ]
  },
  {
   "cell_type": "code",
   "execution_count": 18,
   "metadata": {
    "slideshow": {
     "slide_type": "fragment"
    }
   },
   "outputs": [
    {
     "name": "stdout",
     "output_type": "stream",
     "text": [
      "🐶\n"
     ]
    }
   ],
   "source": [
    "def print_it(it):\n",
    "    print(it)\n",
    "    \n",
    "λ = print_it(\"🐶\")\n"
   ]
  },
  {
   "cell_type": "code",
   "execution_count": 19,
   "metadata": {
    "slideshow": {
     "slide_type": "fragment"
    }
   },
   "outputs": [],
   "source": [
    "# What is λ?\n",
    "λ"
   ]
  },
  {
   "cell_type": "code",
   "execution_count": 20,
   "metadata": {
    "slideshow": {
     "slide_type": "fragment"
    }
   },
   "outputs": [
    {
     "name": "stdout",
     "output_type": "stream",
     "text": [
      "Variable   Type        Data/Info\n",
      "--------------------------------\n",
      "blank      function    <function blank at 0x106e86820>\n",
      "print_it   function    <function print_it at 0x106e86700>\n",
      "x          NoneType    None\n",
      "λ          NoneType    None\n"
     ]
    }
   ],
   "source": [
    "whos"
   ]
  },
  {
   "cell_type": "markdown",
   "metadata": {
    "slideshow": {
     "slide_type": "slide"
    }
   },
   "source": [
    "<center><h2>What the heck is None?</h2></center>\n",
    "\n",
    "> None   \n",
    ">  \n",
    "> The sole value of the type NoneType. None is frequently used to represent the absence of a value, as when default arguments are not passed to a function. Assignments to None are illegal and raise a SyntaxError.\n",
    "\n",
    "[Python Built-in Constants](https://docs.python.org/3/library/constants.html)"
   ]
  },
  {
   "cell_type": "markdown",
   "metadata": {
    "slideshow": {
     "slide_type": "slide"
    }
   },
   "source": [
    "<center><h2>Takeaways</h2></center>\n",
    "\n",
    "- Functions help us organize our code in to modular sections.\n",
    "- Python has many built-in functions. Use them!\n",
    "- Write your functions:\n",
    "    - Do one thing well.\n",
    "    - Reasonably named.\n",
    "    - Tested for correctness.\n",
    "- Documentation is important - sensible name, type hints, docstrings, and tests."
   ]
  },
  {
   "cell_type": "markdown",
   "metadata": {
    "slideshow": {
     "slide_type": "slide"
    }
   },
   "source": [
    " "
   ]
  },
  {
   "cell_type": "markdown",
   "metadata": {},
   "source": [
    "Bonus Material\n",
    "-----"
   ]
  },
  {
   "cell_type": "markdown",
   "metadata": {},
   "source": [
    "Detailed checklist for functions\n",
    "------\n",
    "\n",
    "- Meaningful, semantic name\n",
    "    - Use result - `sum` returns the sum\n",
    "    - Remove filler words - calculate\n",
    "    - Error on the side of verbose. We all have tab complete today.\n",
    "    - Formated with as snake_case\n",
    "    - Not the same name as built-in or other common function\n",
    "- Elegance\n",
    "    - Does only one thing (otherwise make helper function)\n",
    "    - Has the potential to be reused (otherwise inline code)\n",
    "    - No unnecessary variables\n",
    "    - Each line of code is single complete thought"
   ]
  },
  {
   "cell_type": "markdown",
   "metadata": {},
   "source": [
    "Return values vs printing\n",
    "-----------\n",
    "\n",
    "Functions that perform calculation should always return just values so they play nice with other functions. Playing with other functions is called composability.\n",
    "\n",
    "Create a separate function for printing. The common name is \"pretty printing\" / `pprint`.\n",
    " "
   ]
  },
  {
   "cell_type": "code",
   "execution_count": 4,
   "metadata": {},
   "outputs": [
    {
     "name": "stdout",
     "output_type": "stream",
     "text": [
      "6.28\n"
     ]
    }
   ],
   "source": [
    "from math import tau\n",
    "\n",
    "def pprint_tau(n_digits: int=2) -> None:\n",
    "    \"Just prints tau to number of digits\"\n",
    "    print(f\"{tau:.{n_digits}f}\")\n",
    "    \n",
    "pprint_tau()"
   ]
  },
  {
   "cell_type": "markdown",
   "metadata": {
    "slideshow": {
     "slide_type": "skip"
    }
   },
   "source": [
    "<center><h2>Best Practices for Functions</h2></center>\n",
    "\n",
    "1. Idempotent \n",
    "2. Pure (if possible):\n",
    "\n",
    "    - Does not have logging statements or print() calls. \n",
    "\n",
    "    - Does not make use of database or internet connections. \n",
    "\n",
    "    - Does not access or modify non-local variables.\n",
    "\n",
    "    - Does not call any other non-pure functions.\n"
   ]
  }
 ],
 "metadata": {
  "celltoolbar": "Raw Cell Format",
  "kernelspec": {
   "display_name": "Python 3",
   "language": "python",
   "name": "python3"
  },
  "language_info": {
   "codemirror_mode": {
    "name": "ipython",
    "version": 3
   },
   "file_extension": ".py",
   "mimetype": "text/x-python",
   "name": "python",
   "nbconvert_exporter": "python",
   "pygments_lexer": "ipython3",
   "version": "3.8.3"
  },
  "toc": {
   "base_numbering": 1,
   "nav_menu": {},
   "number_sections": false,
   "sideBar": false,
   "skip_h1_title": false,
   "title_cell": "Table of Contents",
   "title_sidebar": "Contents",
   "toc_cell": true,
   "toc_position": {},
   "toc_section_display": true,
   "toc_window_display": false
  }
 },
 "nbformat": 4,
 "nbformat_minor": 2
}
